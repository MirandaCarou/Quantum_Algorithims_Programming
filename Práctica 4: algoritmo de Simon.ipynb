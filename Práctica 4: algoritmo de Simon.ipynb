{
  "cells": [
    {
      "cell_type": "markdown",
      "metadata": {
        "id": "view-in-github",
        "colab_type": "text"
      },
      "source": [
        "<a href=\"https://colab.research.google.com/github/MirandaCarou/Quantum_Algorithims_Programming/blob/main/Pr%C3%A1ctica%204%3A%20algoritmo%20de%20Simon.ipynb\" target=\"_parent\"><img src=\"https://colab.research.google.com/assets/colab-badge.svg\" alt=\"Open In Colab\"/></a>"
      ]
    },
    {
      "cell_type": "markdown",
      "source": [
        "# **PON TU NOMBRE AQUÍ**\n",
        "\n",
        "---"
      ],
      "metadata": {
        "id": "EppLH_OqxvL4"
      },
      "id": "EppLH_OqxvL4"
    },
    {
      "cell_type": "markdown",
      "id": "8765bb7b",
      "metadata": {
        "id": "8765bb7b"
      },
      "source": [
        "# Práctica 4: algoritmo de Simon\n",
        "\n",
        "Implementa en Qiskit el algoritmo de Simon para un $n$ y un $c$ arbitrario y el oráculo simple que hemos visto.\n",
        "\n",
        "Empieza implementando el oráculo como una puerta.\n",
        "\n",
        "Para probarlo, supón $n=3$ y $c$ un valor aleatorio en el intervalo $[0,7]$. Obtén el valor de $c$ a partir de la salida del algoritmo."
      ]
    },
    {
      "cell_type": "code",
      "execution_count": 1,
      "id": "dd08cc5b",
      "metadata": {
        "id": "dd08cc5b",
        "colab": {
          "base_uri": "https://localhost:8080/"
        },
        "outputId": "b9c4b368-5b3f-4403-9125-288ae26be926"
      },
      "outputs": [
        {
          "output_type": "stream",
          "name": "stdout",
          "text": [
            "Requirement already satisfied: qiskit in /usr/local/lib/python3.10/dist-packages (1.2.4)\n",
            "Requirement already satisfied: qiskit-aer in /usr/local/lib/python3.10/dist-packages (0.15.1)\n",
            "Requirement already satisfied: pylatexenc in /usr/local/lib/python3.10/dist-packages (2.10)\n",
            "Requirement already satisfied: rustworkx>=0.15.0 in /usr/local/lib/python3.10/dist-packages (from qiskit) (0.15.1)\n",
            "Requirement already satisfied: numpy<3,>=1.17 in /usr/local/lib/python3.10/dist-packages (from qiskit) (1.26.4)\n",
            "Requirement already satisfied: scipy>=1.5 in /usr/local/lib/python3.10/dist-packages (from qiskit) (1.13.1)\n",
            "Requirement already satisfied: sympy>=1.3 in /usr/local/lib/python3.10/dist-packages (from qiskit) (1.13.1)\n",
            "Requirement already satisfied: dill>=0.3 in /usr/local/lib/python3.10/dist-packages (from qiskit) (0.3.9)\n",
            "Requirement already satisfied: python-dateutil>=2.8.0 in /usr/local/lib/python3.10/dist-packages (from qiskit) (2.8.2)\n",
            "Requirement already satisfied: stevedore>=3.0.0 in /usr/local/lib/python3.10/dist-packages (from qiskit) (5.3.0)\n",
            "Requirement already satisfied: typing-extensions in /usr/local/lib/python3.10/dist-packages (from qiskit) (4.12.2)\n",
            "Requirement already satisfied: symengine<0.14,>=0.11 in /usr/local/lib/python3.10/dist-packages (from qiskit) (0.13.0)\n",
            "Requirement already satisfied: psutil>=5 in /usr/local/lib/python3.10/dist-packages (from qiskit-aer) (5.9.5)\n",
            "Requirement already satisfied: six>=1.5 in /usr/local/lib/python3.10/dist-packages (from python-dateutil>=2.8.0->qiskit) (1.16.0)\n",
            "Requirement already satisfied: pbr>=2.0.0 in /usr/local/lib/python3.10/dist-packages (from stevedore>=3.0.0->qiskit) (6.1.0)\n",
            "Requirement already satisfied: mpmath<1.4,>=1.1.0 in /usr/local/lib/python3.10/dist-packages (from sympy>=1.3->qiskit) (1.3.0)\n"
          ]
        }
      ],
      "source": [
        "# Instalamos qiskit en el notebook\n",
        "!pip install qiskit qiskit-aer pylatexenc"
      ]
    },
    {
      "cell_type": "code",
      "source": [
        "# importing Qiskit\n",
        "from qiskit import QuantumCircuit, QuantumRegister, ClassicalRegister, transpile\n",
        "from qiskit_aer import AerSimulator\n",
        "# import basic plot tools\n",
        "from qiskit.visualization import plot_histogram"
      ],
      "metadata": {
        "id": "wCuZTlx2mo9v"
      },
      "id": "wCuZTlx2mo9v",
      "execution_count": 2,
      "outputs": []
    },
    {
      "cell_type": "code",
      "source": [
        "import numpy as np\n",
        "from math import sqrt\n",
        "\n",
        "# importing Qiskit\n",
        "from qiskit import QuantumCircuit, QuantumRegister, ClassicalRegister, transpile\n",
        "from qiskit.quantum_info import Statevector\n",
        "from qiskit_aer import AerSimulator\n",
        "# import basic plot tools\n",
        "from qiskit.visualization import plot_histogram\n",
        "\n",
        "# Funciones auxiliares\n",
        "\n",
        "# Función para simular y mostrar el vector de estado\n",
        "def obten_estado(qcirc, etiqueta=\"|\\psi\\!\\!> = \", bloch=False):\n",
        "    # Usamos el simulador de vector de estado\n",
        "    # https://qiskit.github.io/qiskit-aer/stubs/qiskit_aer.AerSimulator.html\n",
        "    sim = AerSimulator(method='statevector')\n",
        "    qc_obj = transpile(qcirc, sim)\n",
        "    result = sim.run(qc_obj).result()\n",
        "    estado = result.get_statevector()\n",
        "    display(estado.draw('latex', prefix=etiqueta))\n",
        "    if bloch:\n",
        "      display(estado.draw('bloch'))\n",
        "\n",
        "# Funcion para obtener y mostrar la matriz unitaria\n",
        "def obten_unitaria(qcirc, etiqueta):\n",
        "    # Usamos el simulador de matriz unitaria\n",
        "    sim_u = AerSimulator(method='unitary')\n",
        "    qc_obj = transpile(qcirc, sim_u)\n",
        "    result = sim_u.run(qcirc).result()\n",
        "    unitary = result.get_unitary(qcirc)\n",
        "    display(unitary.draw('latex', prefix=etiqueta))"
      ],
      "metadata": {
        "id": "YuX5I8dmK3or"
      },
      "id": "YuX5I8dmK3or",
      "execution_count": 3,
      "outputs": []
    },
    {
      "cell_type": "code",
      "source": [
        "def get_s(n):\n",
        "    s = list()\n",
        "    for q in range(n):\n",
        "        if np.random.randint(2) == 1:\n",
        "            s.append(1)\n",
        "        else:\n",
        "            s.append(0)\n",
        "    if all( e == 0 for e in s ):\n",
        "        s[0] = 1\n",
        "    return(s)\n",
        "\n",
        "# Ejemplo de oráculo para n=3 y c=110\n",
        "# init es el valor inicial del registro x\n",
        "def simon_oraculo(init, n, s):\n",
        "    x = QuantumRegister(n, name=\"|x\\\\rangle\")\n",
        "    ancilla = QuantumRegister(n, name=\"|ancilla\\\\rangle\")\n",
        "    meas = ClassicalRegister(n, name=\"Medida\")\n",
        "    qc = QuantumCircuit(x, ancilla, meas)\n",
        "    qc.initialize(init)\n",
        "    # Hacemos la copia de la x a las ancillas\n",
        "    qc.cx(x,ancilla)\n",
        "\n",
        "    qc.barrier()\n",
        "\n",
        "    sinv = s[::-1] # Invertimos s para recorrerlo del bit menos al más significativo\n",
        "\n",
        "    for p in range(n):\n",
        "      if sinv[p] == 1:\n",
        "        qc.cx(x[p],ancilla[p])\n",
        "\n",
        "    qc.barrier()\n",
        "    qc.measure(ancilla, meas)\n",
        "    qc.barrier()\n",
        "    return(qc)\n"
      ],
      "metadata": {
        "id": "4fSOHMyKLELw"
      },
      "id": "4fSOHMyKLELw",
      "execution_count": 94,
      "outputs": []
    },
    {
      "cell_type": "code",
      "source": [
        "def algoritmo_Simon(init, n, s):\n",
        "    x = QuantumRegister(n, name=\"|x\\\\rangle\")\n",
        "    ancilla = QuantumRegister(n, name=\"|ancilla\\\\rangle\")\n",
        "    meas = ClassicalRegister(n, name=\"Medida\")\n",
        "    qc = QuantumCircuit(x, ancilla, meas)\n",
        "\n",
        "    qc.h(range(n))\n",
        "\n",
        "    qc = qc.compose(simon_oraculo(init, n, s))\n",
        "\n",
        "\n",
        "    qc.h(range(n))\n",
        "    qc.barrier()\n",
        "    qc.measure(x, meas)\n",
        "\n",
        "    return qc\n",
        "\n",
        "n = 3\n",
        "s = get_s(n)\n",
        "qc = algoritmo_Simon(0, n, s)\n",
        "qc.save_statevector()\n",
        "qc.draw('mpl')\n"
      ],
      "metadata": {
        "colab": {
          "base_uri": "https://localhost:8080/",
          "height": 307
        },
        "id": "59o9F62tOSzZ",
        "outputId": "9885fb6e-f185-417b-e01a-1e93dfc8d3ca"
      },
      "id": "59o9F62tOSzZ",
      "execution_count": 89,
      "outputs": [
        {
          "output_type": "execute_result",
          "data": {
            "text/plain": [
              "<Figure size 1643.22x618.722 with 1 Axes>"
            ],
            "image/png": "[encoded data removed]"
          },
          "metadata": {},
          "execution_count": 89
        }
      ]
    },
    {
      "cell_type": "code",
      "source": [
        "obten_estado(qc, etiqueta=\"|\\psi\\!\\!> = \", bloch=False)"
      ],
      "metadata": {
        "colab": {
          "base_uri": "https://localhost:8080/",
          "height": 39
        },
        "id": "cDP31f-DQaHD",
        "outputId": "eb9c3010-b0e8-4b39-a1bf-da59c71a1c89"
      },
      "id": "cDP31f-DQaHD",
      "execution_count": 35,
      "outputs": [
        {
          "output_type": "display_data",
          "data": {
            "text/plain": [
              "<IPython.core.display.Latex object>"
            ],
            "text/latex": "$$|\\psi\\!\\!> =  |000111\\rangle$$"
          },
          "metadata": {}
        }
      ]
    },
    {
      "cell_type": "code",
      "source": [
        "def solve_for_solution(counts):\n",
        "\n",
        "#   extraemos la longitud de las cuentas 'x' que será igual a la de la incógnita 's'\n",
        "    n = len(list(counts)[0])\n",
        "\n",
        "#   generamos todos los posibles inputs\n",
        "    s_list = [format(i, 'b').zfill(n) for i in range(1, 2**n)]\n",
        "#    s_list = [format(i, '0'+str(n)+'b') for i in range(1, 2**n)]  # otra manera de hacer lo mismo\n",
        "#   ahora evaluamos, para cada s,  s.x_i = 0 con todos los x_i encontrados\n",
        "    for s_str in s_list:\n",
        "        s = [int(_) for _ in list(s_str)]\n",
        "\n",
        "#   sólo necesitamos n valores de x independientes'\n",
        "        prod_sxi = [sum([s[j]*int(xi[j]) for j in range(len(s))])%2 for xi in list(counts)[:n]]\n",
        "#   sólo si todos los s.x_i = 0 también la suma será = 0\n",
        "        sum_sx = sum(prod_sxi)\n",
        "        print('(Sum_{i=1}^4 s.x_i%2))=', sum_sx, ' para s=', s_str)\n",
        "        if  sum_sx==0:\n",
        "            return s_str\n",
        "            break"
      ],
      "metadata": {
        "id": "4A4iby9bS8U4"
      },
      "id": "4A4iby9bS8U4",
      "execution_count": 90,
      "outputs": []
    },
    {
      "cell_type": "code",
      "source": [
        "# Probamos para diferentes valores\n",
        "from qiskit.result import Counts\n",
        "n = 3\n",
        "sim = AerSimulator(method='automatic')\n",
        "s = get_s(n)\n",
        "print(\"The secret value is : \" , str(s))\n",
        "x_to_salida_map = {}\n",
        "salida2 = []\n",
        "#for x in range(8):\n",
        "#  qc = algoritmo_Simon(x, n, s)\n",
        "\n",
        "  # Ejecutamos una simulación y obtenemos los resultados\n",
        "#  qc_obj = transpile(qc, sim)\n",
        "#  salida = sim.run(qc_obj, shots=1).result().get_counts()\n",
        "#  print(salida)\n",
        "  #print('f({0:03b}) = {1}'.format(x,list(salida.keys())[0]))\n",
        "#  for key in salida.keys():\n",
        "#    x_to_salida_map[x] = key\n",
        "\n",
        "\n",
        "#print(x_to_salida_map)\n",
        "#plot_histogram(x_to_salida_map)\n",
        "\n",
        "\n",
        "qc = algoritmo_Simon(0, n, s)\n",
        "sim = AerSimulator(method='automatic')\n",
        "qc_obj = transpile(qc, sim)\n",
        "result = sim.run(qc_obj, shots = 2080).result()\n",
        "salida = result.get_counts()\n",
        "plot_histogram(salida)\n",
        "\n",
        "\n",
        "\n",
        "# Si resolvemos el sistema de ecuaciones manualmente vemos que en todos los casos se recuperar c"
      ],
      "metadata": {
        "colab": {
          "base_uri": "https://localhost:8080/",
          "height": 464
        },
        "id": "fegewH0IQ8Ra",
        "outputId": "9cc69326-1228-442d-ad19-bd36c16843a3"
      },
      "id": "fegewH0IQ8Ra",
      "execution_count": 95,
      "outputs": [
        {
          "output_type": "stream",
          "name": "stdout",
          "text": [
            "The secret value is :  [0, 1, 1]\n"
          ]
        },
        {
          "output_type": "execute_result",
          "data": {
            "text/plain": [
              "<Figure size 640x480 with 1 Axes>"
            ],
            "image/png": "[encoded data removed]"
          },
          "metadata": {},
          "execution_count": 95
        }
      ]
    },
    {
      "cell_type": "code",
      "source": [
        "salida2 = np.array(list(salida.keys()))\n",
        "array_listas = [[int(bit) for bit in string] for string in salida2]\n",
        "print(array_listas)"
      ],
      "metadata": {
        "colab": {
          "base_uri": "https://localhost:8080/"
        },
        "id": "PioZutGxsQ0n",
        "outputId": "5f91d4ee-915e-4f76-aeff-484c290e869d"
      },
      "id": "PioZutGxsQ0n",
      "execution_count": 96,
      "outputs": [
        {
          "output_type": "stream",
          "name": "stdout",
          "text": [
            "[[0, 0, 0], [0, 1, 0], [1, 1, 0], [1, 0, 1], [1, 0, 0], [0, 0, 1], [0, 1, 1], [1, 1, 1]]\n"
          ]
        }
      ]
    },
    {
      "cell_type": "code",
      "source": [
        "import numpy as np\n",
        "from sympy import Matrix\n",
        "\n",
        "def solve_simon_equations(equations, n):\n",
        "    \"\"\"\n",
        "    Resuelve el sistema de ecuaciones lineales mod 2 generado en el algoritmo de Simon.\n",
        "\n",
        "    Args:\n",
        "        equations (list of list of int): Lista de vectores `y` obtenidos de las mediciones.\n",
        "        n (int): Número de qubits de entrada.\n",
        "\n",
        "    Returns:\n",
        "        list: El vector `s` que satisface las ecuaciones mod 2.\n",
        "    \"\"\"\n",
        "    # Convertir las ecuaciones en una matriz binaria\n",
        "    A = np.array(equations, dtype=int)\n",
        "\n",
        "    # Convertir la matriz a forma escalonada reducida mod 2 usando SymPy\n",
        "    M = Matrix(A).rref(iszerofunc=lambda x: x % 2 == 0)  # Forma escalonada reducida\n",
        "    rref_matrix = np.array(M[0].tolist(), dtype=int) % 2\n",
        "\n",
        "    # Extraer el núcleo de la matriz para encontrar soluciones\n",
        "    null_space = Matrix(A).nullspace()\n",
        "    if not null_space:\n",
        "        raise ValueError(\"No se encontraron soluciones válidas.\")\n",
        "\n",
        "    # El núcleo es el vector solución `s` (puede haber múltiples soluciones)\n",
        "    s = np.array(null_space[0].tolist(), dtype=int).flatten() % 2\n",
        "    return s\n",
        "\n"
      ],
      "metadata": {
        "id": "YHB2l4iKnmzy"
      },
      "id": "YHB2l4iKnmzy",
      "execution_count": 92,
      "outputs": []
    },
    {
      "cell_type": "code",
      "source": [],
      "metadata": {
        "id": "Ig6kupuoq90o"
      },
      "id": "Ig6kupuoq90o",
      "execution_count": 97,
      "outputs": []
    },
    {
      "cell_type": "markdown",
      "id": "a5e530b8",
      "metadata": {
        "id": "a5e530b8"
      },
      "source": [
        "--------------------\n",
        "-------------------\n",
        "------------------"
      ]
    }
  ],
  "metadata": {
    "kernelspec": {
      "display_name": "Python 3 (ipykernel)",
      "language": "python",
      "name": "python3"
    },
    "language_info": {
      "codemirror_mode": {
        "name": "ipython",
        "version": 3
      },
      "file_extension": ".py",
      "mimetype": "text/x-python",
      "name": "python",
      "nbconvert_exporter": "python",
      "pygments_lexer": "ipython3",
      "version": "3.11.4"
    },
    "colab": {
      "provenance": [],
      "include_colab_link": true
    }
  },
  "nbformat": 4,
  "nbformat_minor": 5
}