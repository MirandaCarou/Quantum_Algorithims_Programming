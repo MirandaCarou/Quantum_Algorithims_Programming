{
  "cells": [
    {
      "cell_type": "markdown",
      "metadata": {
        "id": "view-in-github",
        "colab_type": "text"
      },
      "source": [
        "<a href=\"https://colab.research.google.com/github/MirandaCarou/Quantum_Algorithims_Programming/blob/main/Grover_Algorithim.ipynb\" target=\"_parent\"><img src=\"https://colab.research.google.com/assets/colab-badge.svg\" alt=\"Open In Colab\"/></a>"
      ]
    },
    {
      "cell_type": "markdown",
      "source": [
        "# **PON TU NOMBRE AQUÍ**"
      ],
      "metadata": {
        "id": "ryryAvMs8duN"
      },
      "id": "ryryAvMs8duN"
    },
    {
      "cell_type": "markdown",
      "id": "1d515781",
      "metadata": {
        "id": "1d515781"
      },
      "source": [
        "# Práctica 5: algoritmo de Grover\n",
        "\n",
        "Implementa en Qiskit el algoritmo de Grover para para un número arbitrario de cúbits."
      ]
    },
    {
      "cell_type": "code",
      "execution_count": 1,
      "id": "dc94dc16",
      "metadata": {
        "id": "dc94dc16",
        "colab": {
          "base_uri": "https://localhost:8080/"
        },
        "outputId": "7606be1e-2347-4835-9d70-b78a927f5b9c"
      },
      "outputs": [
        {
          "output_type": "stream",
          "name": "stdout",
          "text": [
            "Requirement already satisfied: qiskit in /usr/local/lib/python3.10/dist-packages (1.2.4)\n",
            "Requirement already satisfied: qiskit-aer in /usr/local/lib/python3.10/dist-packages (0.15.1)\n",
            "Requirement already satisfied: pylatexenc in /usr/local/lib/python3.10/dist-packages (2.10)\n",
            "Requirement already satisfied: rustworkx>=0.15.0 in /usr/local/lib/python3.10/dist-packages (from qiskit) (0.15.1)\n",
            "Requirement already satisfied: numpy<3,>=1.17 in /usr/local/lib/python3.10/dist-packages (from qiskit) (1.26.4)\n",
            "Requirement already satisfied: scipy>=1.5 in /usr/local/lib/python3.10/dist-packages (from qiskit) (1.13.1)\n",
            "Requirement already satisfied: sympy>=1.3 in /usr/local/lib/python3.10/dist-packages (from qiskit) (1.13.1)\n",
            "Requirement already satisfied: dill>=0.3 in /usr/local/lib/python3.10/dist-packages (from qiskit) (0.3.9)\n",
            "Requirement already satisfied: python-dateutil>=2.8.0 in /usr/local/lib/python3.10/dist-packages (from qiskit) (2.8.2)\n",
            "Requirement already satisfied: stevedore>=3.0.0 in /usr/local/lib/python3.10/dist-packages (from qiskit) (5.3.0)\n",
            "Requirement already satisfied: typing-extensions in /usr/local/lib/python3.10/dist-packages (from qiskit) (4.12.2)\n",
            "Requirement already satisfied: symengine<0.14,>=0.11 in /usr/local/lib/python3.10/dist-packages (from qiskit) (0.13.0)\n",
            "Requirement already satisfied: psutil>=5 in /usr/local/lib/python3.10/dist-packages (from qiskit-aer) (5.9.5)\n",
            "Requirement already satisfied: six>=1.5 in /usr/local/lib/python3.10/dist-packages (from python-dateutil>=2.8.0->qiskit) (1.16.0)\n",
            "Requirement already satisfied: pbr>=2.0.0 in /usr/local/lib/python3.10/dist-packages (from stevedore>=3.0.0->qiskit) (6.1.0)\n",
            "Requirement already satisfied: mpmath<1.4,>=1.1.0 in /usr/local/lib/python3.10/dist-packages (from sympy>=1.3->qiskit) (1.3.0)\n"
          ]
        }
      ],
      "source": [
        "# Instalamos qiskit en el notebook\n",
        "!pip install qiskit qiskit-aer pylatexenc"
      ]
    },
    {
      "cell_type": "code",
      "source": [
        "import numpy as np\n",
        "from math import sqrt\n",
        "\n",
        "# importing Qiskit\n",
        "from qiskit import QuantumCircuit, QuantumRegister, ClassicalRegister, transpile\n",
        "from qiskit.quantum_info import Statevector\n",
        "from qiskit_aer import AerSimulator\n",
        "# import basic plot tools\n",
        "from qiskit.visualization import plot_histogram\n",
        "from qiskit.circuit.library import MCXGate\n",
        "\n",
        "# Funciones auxiliares\n",
        "\n",
        "# Función para simular y mostrar el vector de estado\n",
        "def obten_estado(qcirc, etiqueta=\"|\\psi\\!\\!> = \", bloch=False):\n",
        "    # Usamos el simulador de vector de estado\n",
        "    # https://qiskit.github.io/qiskit-aer/stubs/qiskit_aer.AerSimulator.html\n",
        "    sim = AerSimulator(method='statevector')\n",
        "    qc_obj = transpile(qcirc, sim)\n",
        "    result = sim.run(qc_obj).result()\n",
        "    estado = result.get_statevector()\n",
        "    display(estado.draw('latex', prefix=etiqueta))\n",
        "    if bloch:\n",
        "      display(estado.draw('bloch'))\n",
        "\n",
        "# Funcion para obtener y mostrar la matriz unitaria\n",
        "def obten_unitaria(qcirc, etiqueta):\n",
        "    # Usamos el simulador de matriz unitaria\n",
        "    sim_u = AerSimulator(method='unitary')\n",
        "    qc_obj = transpile(qcirc, sim_u)\n",
        "    result = sim_u.run(qcirc).result()\n",
        "    unitary = result.get_unitary(qcirc)\n",
        "    display(unitary.draw('latex', prefix=etiqueta))"
      ],
      "metadata": {
        "id": "u5wNnPmDOuYb"
      },
      "id": "u5wNnPmDOuYb",
      "execution_count": 58,
      "outputs": []
    },
    {
      "cell_type": "code",
      "source": [
        "def oraculo_inversion(s, n):\n",
        "    x = QuantumRegister(n, name=\"|x\\\\rangle\")\n",
        "    #meas = ClassicalRegister(n, name=\"Medida\")\n",
        "    qc = QuantumCircuit(x)\n",
        "\n",
        "    qc.h(range(n))\n",
        "\n",
        "    #Invertimos los qbits para los que s tenga un bit a 0\n",
        "    temp = s\n",
        "    for qbit in range(n):\n",
        "      bit_meos_significativo = temp&1 #AND bianrio bit a bit\n",
        "      if(bit_meos_significativo == 0):\n",
        "        qc.x(qbit)\n",
        "      temp >>= 1\n",
        "\n",
        "    if(n == 2):\n",
        "      qc.cz(0,1)\n",
        "    elif(n == 3):\n",
        "      qc.ccz(0,1,2)\n",
        "\n",
        "    #DesInvertimos los qbits para los que s tenga un bit a 0\n",
        "    temp = s\n",
        "    for qbit in range(n):\n",
        "      bit_meos_significativo = temp&1 #AND bianrio bit a bit\n",
        "      if(bit_meos_significativo == 0):\n",
        "        qc.x(qbit)\n",
        "      temp >>= 1\n",
        "\n",
        "\n",
        "    qc.save_statevector()\n",
        "    return qc"
      ],
      "metadata": {
        "id": "pFWvYqFwOyEi"
      },
      "id": "pFWvYqFwOyEi",
      "execution_count": 64,
      "outputs": []
    },
    {
      "cell_type": "code",
      "source": [
        "oraculo_inversion(2, 3).draw(\"mpl\")"
      ],
      "metadata": {
        "colab": {
          "base_uri": "https://localhost:8080/",
          "height": 275
        },
        "id": "g0m70IgSQPPA",
        "outputId": "100c29cb-0ea9-4aa6-8db0-3065fed470cf"
      },
      "id": "g0m70IgSQPPA",
      "execution_count": 65,
      "outputs": [
        {
          "output_type": "execute_result",
          "data": {
            "text/plain": [
              "<Figure size 729.792x284.278 with 1 Axes>"
            ],
            "image/png": "[encoded data removed]"
          },
          "metadata": {},
          "execution_count": 65
        }
      ]
    },
    {
      "cell_type": "code",
      "source": [
        "qc = oraculo_inversion(2, 3)\n",
        "obten_estado(qc, \"|\\psi\\rangle = \")"
      ],
      "metadata": {
        "colab": {
          "base_uri": "https://localhost:8080/",
          "height": 61
        },
        "id": "m0Qd1n7XRp4W",
        "outputId": "ebc355b2-c840-4877-cb6e-113318c6dbf5"
      },
      "id": "m0Qd1n7XRp4W",
      "execution_count": 66,
      "outputs": [
        {
          "output_type": "display_data",
          "data": {
            "text/plain": [
              "<IPython.core.display.Latex object>"
            ],
            "text/latex": "$$|\\psi\rangle = \\frac{\\sqrt{2}}{4} |000\\rangle+\\frac{\\sqrt{2}}{4} |001\\rangle- \\frac{\\sqrt{2}}{4} |010\\rangle+\\frac{\\sqrt{2}}{4} |011\\rangle+\\frac{\\sqrt{2}}{4} |100\\rangle+\\frac{\\sqrt{2}}{4} |101\\rangle+\\frac{\\sqrt{2}}{4} |110\\rangle+\\frac{\\sqrt{2}}{4} |111\\rangle$$"
          },
          "metadata": {}
        }
      ]
    },
    {
      "cell_type": "code",
      "source": [
        "sim = AerSimulator(method='automatic')\n",
        "qc_obj = transpile(qc, sim)\n",
        "result = sim.run(qc_obj).result()\n",
        "estado = result.get_counts()\n",
        "plot_histogram(estado)"
      ],
      "metadata": {
        "colab": {
          "base_uri": "https://localhost:8080/",
          "height": 466
        },
        "id": "1dMWFmiySdwj",
        "outputId": "f2ec8955-0289-4120-c8a1-248c29b11c51"
      },
      "id": "1dMWFmiySdwj",
      "execution_count": 67,
      "outputs": [
        {
          "output_type": "execute_result",
          "data": {
            "text/plain": [
              "<Figure size 640x480 with 1 Axes>"
            ],
            "image/png": "[encoded data removed]"
          },
          "metadata": {},
          "execution_count": 67
        }
      ]
    },
    {
      "cell_type": "markdown",
      "id": "a5e530b8",
      "metadata": {
        "id": "a5e530b8"
      },
      "source": [
        "--------------------\n",
        "-------------------\n",
        "------------------"
      ]
    },
    {
      "cell_type": "code",
      "source": [
        "def oraculo_amplificacion(n):\n",
        "    x = QuantumRegister(n, name=\"|x\\\\rangle\")\n",
        "    #meas = ClassicalRegister(n, name=\"Medida\")\n",
        "    qc = QuantumCircuit(x)\n",
        "\n",
        "    qc.x(range(n))\n",
        "\n",
        "    if(n == 2):\n",
        "      qc.cz(0,1)\n",
        "    elif(n == 3):\n",
        "      qc.ccz(0,1,2)\n",
        "\n",
        "    qc.x(range(n))\n",
        "\n",
        "\n",
        "    qc.save_statevector()\n",
        "    return qc"
      ],
      "metadata": {
        "id": "4BKghrwmVtsC"
      },
      "id": "4BKghrwmVtsC",
      "execution_count": 29,
      "outputs": []
    },
    {
      "cell_type": "code",
      "source": [
        "oraculo_amplificacion(3).draw(\"mpl\")"
      ],
      "metadata": {
        "colab": {
          "base_uri": "https://localhost:8080/",
          "height": 275
        },
        "id": "cetE4ZsSXFJT",
        "outputId": "6e33b8e7-6c4b-4b90-8f5b-544c842a54b1"
      },
      "id": "cetE4ZsSXFJT",
      "execution_count": 31,
      "outputs": [
        {
          "output_type": "execute_result",
          "data": {
            "text/plain": [
              "<Figure size 646.181x284.278 with 1 Axes>"
            ],
            "image/png": "[encoded data removed]"
          },
          "metadata": {},
          "execution_count": 31
        }
      ]
    },
    {
      "cell_type": "code",
      "source": [
        "def grove_algorithim(n,s):\n",
        "    x = QuantumRegister(n, name=\"|x\\\\rangle\")\n",
        "    qc = QuantumCircuit(x)"
      ],
      "metadata": {
        "id": "zQf67tqJXPPL"
      },
      "id": "zQf67tqJXPPL",
      "execution_count": null,
      "outputs": []
    }
  ],
  "metadata": {
    "kernelspec": {
      "display_name": "Python 3 (ipykernel)",
      "language": "python",
      "name": "python3"
    },
    "language_info": {
      "codemirror_mode": {
        "name": "ipython",
        "version": 3
      },
      "file_extension": ".py",
      "mimetype": "text/x-python",
      "name": "python",
      "nbconvert_exporter": "python",
      "pygments_lexer": "ipython3",
      "version": "3.11.4"
    },
    "colab": {
      "provenance": [],
      "include_colab_link": true
    }
  },
  "nbformat": 4,
  "nbformat_minor": 5
}